{
 "cells": [
  {
   "cell_type": "markdown",
   "metadata": {},
   "source": [
    "# 05: Models\n",
    "\n",
    "The team explored many avenues in the modeling process in order to get the most out of the datasets. Primarily the focus of the models was on both multi- and binary classification of animal outcomes with a great deal of additional work done in an effort to create a model to predict an animal's duration of stay. In the end, duration-of-stay models proved extremely unwieldly and none of the models designed to predict this metric performed reliably. This could potentially improve with additional data and/or with additional time to categorize some of the present features more effectively. Multi-class predictive models performed consistently well, scoring above the baseline with ease. However, the main focus of this project has been to create a model that predicts adoption outcomes specifically for animals that are entered into the Austin shelter system, and for that reason a simple binary classification model is the primary model used, both here and in the corresponding StreamLit app.\n",
    "\n",
    "This notebook begins as usual, with primary imports, file reads, and a random seed:"
   ]
  },
  {
   "cell_type": "code",
   "execution_count": 24,
   "metadata": {
    "id": "bge5hSvDG8Hl"
   },
   "outputs": [],
   "source": [
    "import pandas as pd\n",
    "import numpy as np\n",
    "\n",
    "import matplotlib.pyplot as plt\n",
    "import seaborn as sns\n",
    "\n",
    "import pickle\n",
    "\n",
    "from sklearn.preprocessing import StandardScaler\n",
    "from sklearn.linear_model import Ridge, Lasso, ElasticNet, LinearRegression, RidgeCV, LassoCV, ElasticNetCV, LogisticRegression\n",
    "from sklearn.model_selection import cross_val_score, train_test_split\n",
    "from sklearn.preprocessing import OneHotEncoder, StandardScaler\n",
    "from sklearn.pipeline import Pipeline\n",
    "from sklearn.ensemble import GradientBoostingClassifier\n",
    "from sklearn.metrics import plot_confusion_matrix, classification_report"
   ]
  },
  {
   "cell_type": "code",
   "execution_count": 25,
   "metadata": {},
   "outputs": [],
   "source": [
    "np.random.seed(13)"
   ]
  },
  {
   "cell_type": "code",
   "execution_count": 26,
   "metadata": {
    "id": "UTflTdlZHGWl"
   },
   "outputs": [],
   "source": [
    "df = pd.read_csv('../data/main.csv')"
   ]
  },
  {
   "cell_type": "markdown",
   "metadata": {
    "id": "PxN6vq61HYBq"
   },
   "source": [
    "## I. Cleaning"
   ]
  },
  {
   "cell_type": "code",
   "execution_count": 27,
   "metadata": {
    "id": "8tgGQYGJHKhf"
   },
   "outputs": [],
   "source": [
    "# Removing columns before modeling\n",
    "df.drop(columns=['outcome_type'], inplace=True)\n",
    "df.drop(columns=['age_type'], inplace=True)\n",
    "\n",
    "# Changing dtype\n",
    "df['month_in'] = df['month_in'].astype(str)"
   ]
  },
  {
   "cell_type": "markdown",
   "metadata": {
    "id": "AnWB119sH2o4"
   },
   "source": [
    "## II. One-Hot Encoding the DataFrame"
   ]
  },
  {
   "cell_type": "markdown",
   "metadata": {
    "id": "rx6WQJl9r6Jc"
   },
   "source": [
    "One-hot encoding ensures consitency encoding relevant variables when a user input information in the corresponding app. Here, `drop_first` is not used because predictive power is the main focus of this model/these models (rather than interpretability). Also, data is easier to split this way."
   ]
  },
  {
   "cell_type": "markdown",
   "metadata": {},
   "source": [
    "Here, columns are dummied and encoded as necessary, then re-merged. The final model is pickled."
   ]
  },
  {
   "cell_type": "code",
   "execution_count": 28,
   "metadata": {
    "id": "YjMZMrVAIoX-"
   },
   "outputs": [],
   "source": [
    "# get our numeric columns\n",
    "numeric = df.select_dtypes(exclude=object)\n",
    "\n",
    "# get our categorical columns\n",
    "categorical = df.select_dtypes([object])\n",
    "\n",
    "# preserve the names of our categorical data\n",
    "categorical_fnames = categorical.dtypes.keys() # preserve the names\n",
    "\n",
    "# make sure you are importing one hot encoder, or this function will not work\n",
    "enc = OneHotEncoder(sparse=False)\n",
    "\n",
    "# categorical is now an array of arrays \n",
    "categorical = enc.fit_transform(categorical) \n",
    "\n",
    "dummy_cat_names = enc.get_feature_names(categorical_fnames)\n",
    "\n",
    "categorical_df = pd.DataFrame(categorical, columns=dummy_cat_names)\n",
    "\n",
    "df = pd.concat([numeric, categorical_df], axis=1)"
   ]
  },
  {
   "cell_type": "code",
   "execution_count": 29,
   "metadata": {
    "id": "dY7gIcMNmaXe"
   },
   "outputs": [],
   "source": [
    "pickle.dump(enc, open('../app/model/input_encoder.pkl','wb'))"
   ]
  },
  {
   "cell_type": "markdown",
   "metadata": {},
   "source": [
    "## III. Modeling"
   ]
  },
  {
   "cell_type": "markdown",
   "metadata": {},
   "source": [
    "Six separate models are created-- one for each of the following intake types:\n",
    "1. Strays\n",
    "2. Owner Surrender\n",
    "3. Public Assist\n",
    "4. Euthanasia Requests\n",
    "5. Wildlife\n",
    "6. Abandoned"
   ]
  },
  {
   "cell_type": "markdown",
   "metadata": {
    "id": "lvZx6kcxLcAC"
   },
   "source": [
    "### 1. Strays"
   ]
  },
  {
   "cell_type": "markdown",
   "metadata": {
    "id": "vPyXaoAesQ2U"
   },
   "source": [
    "Strays are the largest class of entries based on intake type, and Gradient Boosting is chosen because it consistently performed better than other explored models."
   ]
  },
  {
   "cell_type": "markdown",
   "metadata": {},
   "source": [
    "##### Filtering DataFrame:"
   ]
  },
  {
   "cell_type": "code",
   "execution_count": 30,
   "metadata": {
    "id": "uGEzu3Y9bWqE"
   },
   "outputs": [],
   "source": [
    "model_df = df[df['intake_type_Stray'] == 1]\n",
    "model_df.reset_index(inplace=True, drop=True)"
   ]
  },
  {
   "cell_type": "markdown",
   "metadata": {
    "id": "fapJGFCfb98L"
   },
   "source": [
    "##### Baseline:"
   ]
  },
  {
   "cell_type": "code",
   "execution_count": 31,
   "metadata": {
    "colab": {
     "base_uri": "https://localhost:8080/"
    },
    "id": "9maotSVrb7NH",
    "outputId": "72fe7541-4ec8-4ef2-dceb-dc2b47339dcb"
   },
   "outputs": [
    {
     "name": "stdout",
     "output_type": "stream",
     "text": [
      "0    0.550385\n",
      "1    0.449615\n",
      "Name: adopted, dtype: float64\n"
     ]
    }
   ],
   "source": [
    "print(model_df['adopted'].value_counts(normalize=True))"
   ]
  },
  {
   "cell_type": "markdown",
   "metadata": {
    "id": "5CnvIsDDcFnb"
   },
   "source": [
    "#### **Model**\n",
    "\n",
    "X and y are created, then run through a train-test-split. "
   ]
  },
  {
   "cell_type": "code",
   "execution_count": 32,
   "metadata": {
    "id": "hcmiQimrLNHc"
   },
   "outputs": [],
   "source": [
    "features = (model_df.drop(columns = ['adopted']).columns)\n",
    "X = model_df[features]\n",
    "y = model_df['adopted']\n",
    "\n",
    "X_train, X_test, y_train, y_test = train_test_split(X, y, random_state = 42, stratify=y)"
   ]
  },
  {
   "cell_type": "markdown",
   "metadata": {},
   "source": [
    "A pipeline scales, then fits the training data to the GBC model:"
   ]
  },
  {
   "cell_type": "code",
   "execution_count": 33,
   "metadata": {
    "colab": {
     "base_uri": "https://localhost:8080/"
    },
    "id": "3LRgBDdWMP93",
    "outputId": "5b6fa417-184d-408d-9f1b-c8f8d30ed59d"
   },
   "outputs": [
    {
     "data": {
      "text/plain": [
       "Pipeline(steps=[('scaler', StandardScaler()),\n",
       "                ('gbc', GradientBoostingClassifier(random_state=13))])"
      ]
     },
     "execution_count": 33,
     "metadata": {},
     "output_type": "execute_result"
    }
   ],
   "source": [
    "pipe_params = [\n",
    "  ('scaler', StandardScaler()),\n",
    "  ('gbc', GradientBoostingClassifier(random_state=13))\n",
    "]\n",
    "stray_pipe = Pipeline(pipe_params)\n",
    "stray_pipe.fit(X_train, y_train)"
   ]
  },
  {
   "cell_type": "markdown",
   "metadata": {
    "id": "3DQSLRuSdrGu"
   },
   "source": [
    "##### Scores:"
   ]
  },
  {
   "cell_type": "code",
   "execution_count": 34,
   "metadata": {
    "colab": {
     "base_uri": "https://localhost:8080/"
    },
    "id": "Dg9Mxbv8Lzf5",
    "outputId": "18a06229-9edb-4bb6-e11c-c3f358b0e449"
   },
   "outputs": [
    {
     "name": "stdout",
     "output_type": "stream",
     "text": [
      "Training Score:  0.8328847084442293\n",
      "Testing Score:  0.8286077212720592\n"
     ]
    }
   ],
   "source": [
    "print('Training Score: ', stray_pipe.score(X_train, y_train))\n",
    "print('Testing Score: ', stray_pipe.score(X_test, y_test))"
   ]
  },
  {
   "cell_type": "markdown",
   "metadata": {},
   "source": [
    "The result is a well-fit model, scoring safely above 80% accuracy."
   ]
  },
  {
   "cell_type": "code",
   "execution_count": 35,
   "metadata": {
    "colab": {
     "base_uri": "https://localhost:8080/",
     "height": 444
    },
    "id": "1_M7ApNrkUjX",
    "outputId": "2431e802-359d-4a5f-ef8f-ac43ed4493a9"
   },
   "outputs": [
    {
     "name": "stdout",
     "output_type": "stream",
     "text": [
      "              precision    recall  f1-score   support\n",
      "\n",
      "           0       0.92      0.76      0.83     12132\n",
      "           1       0.75      0.92      0.83      9911\n",
      "\n",
      "    accuracy                           0.83     22043\n",
      "   macro avg       0.84      0.84      0.83     22043\n",
      "weighted avg       0.84      0.83      0.83     22043\n",
      "\n"
     ]
    },
    {
     "data": {
      "image/png": "[encoded data removed]",
      "text/plain": [
       "<Figure size 432x288 with 2 Axes>"
      ]
     },
     "metadata": {
      "needs_background": "light"
     },
     "output_type": "display_data"
    }
   ],
   "source": [
    "plot_confusion_matrix(stray_pipe, X_test, y_test);\n",
    "print(classification_report(y_test, stray_pipe.predict(X_test)))"
   ]
  },
  {
   "cell_type": "markdown",
   "metadata": {
    "id": "afAM47SgvQWt"
   },
   "source": [
    "##### Pickling:"
   ]
  },
  {
   "cell_type": "code",
   "execution_count": 36,
   "metadata": {
    "id": "3NIdtPI-vT6O"
   },
   "outputs": [],
   "source": [
    "pickle.dump(stray_pipe, open('../app/model/stray_pipe.pkl','wb'))"
   ]
  },
  {
   "cell_type": "markdown",
   "metadata": {
    "id": "JhNPkKIOaOmM"
   },
   "source": [
    "### 2. Owner Surrenders"
   ]
  },
  {
   "cell_type": "markdown",
   "metadata": {
    "id": "vxpqvSCwskm4"
   },
   "source": [
    "##### Filtering DataFrame:"
   ]
  },
  {
   "cell_type": "code",
   "execution_count": 37,
   "metadata": {
    "id": "j-E0ZpbXegRL"
   },
   "outputs": [],
   "source": [
    "model_df = df[df['intake_type_Owner Surrender'] == 1]\n",
    "model_df.reset_index(inplace=True, drop=True)"
   ]
  },
  {
   "cell_type": "markdown",
   "metadata": {
    "id": "viEVvC37e_gu"
   },
   "source": [
    "##### Baseline:"
   ]
  },
  {
   "cell_type": "code",
   "execution_count": 38,
   "metadata": {
    "colab": {
     "base_uri": "https://localhost:8080/"
    },
    "id": "dtawAN3Ietq-",
    "outputId": "491a9f72-fefb-4ded-9476-29296ae827d4"
   },
   "outputs": [
    {
     "name": "stdout",
     "output_type": "stream",
     "text": [
      "1    0.633628\n",
      "0    0.366372\n",
      "Name: adopted, dtype: float64\n"
     ]
    }
   ],
   "source": [
    "print(model_df['adopted'].value_counts(normalize=True))"
   ]
  },
  {
   "cell_type": "markdown",
   "metadata": {
    "id": "qHnMnzn5fEu5"
   },
   "source": [
    "#### **Model**\n",
    "\n",
    "X and y are created, then run through a train-test-split. "
   ]
  },
  {
   "cell_type": "code",
   "execution_count": 39,
   "metadata": {
    "colab": {
     "base_uri": "https://localhost:8080/"
    },
    "id": "iYK8pEfSaYWq",
    "outputId": "d97ae35d-3c03-494c-9213-fed24bd083ed"
   },
   "outputs": [
    {
     "data": {
      "text/plain": [
       "Pipeline(steps=[('scaler', StandardScaler()),\n",
       "                ('gbc', GradientBoostingClassifier(random_state=13))])"
      ]
     },
     "execution_count": 39,
     "metadata": {},
     "output_type": "execute_result"
    }
   ],
   "source": [
    "features = (model_df.drop(columns = ['adopted']).columns)\n",
    "X = model_df[features]\n",
    "y = model_df['adopted']\n",
    "X_train, X_test, y_train, y_test = train_test_split(X, y, random_state = 42, stratify=y)\n",
    "\n",
    "pipe_params = [\n",
    "               ('scaler', StandardScaler()),\n",
    "               ('gbc', GradientBoostingClassifier(random_state=13))\n",
    "]\n",
    "surrender_pipe = Pipeline(pipe_params)\n",
    "surrender_pipe.fit(X_train, y_train)"
   ]
  },
  {
   "cell_type": "markdown",
   "metadata": {
    "id": "TZGyaq8nfbxb"
   },
   "source": [
    "##### Scores:\n"
   ]
  },
  {
   "cell_type": "code",
   "execution_count": 40,
   "metadata": {
    "colab": {
     "base_uri": "https://localhost:8080/"
    },
    "id": "ePvLhbjGffWP",
    "outputId": "b2461874-60bb-4341-de98-8fe237ff5928"
   },
   "outputs": [
    {
     "name": "stdout",
     "output_type": "stream",
     "text": [
      "Training Score:  0.7382001258653241\n",
      "Testing Score:  0.7316344187509831\n"
     ]
    }
   ],
   "source": [
    "print('Training Score: ', surrender_pipe.score(X_train, y_train))\n",
    "print('Testing Score: ', surrender_pipe.score(X_test, y_test))"
   ]
  },
  {
   "cell_type": "code",
   "execution_count": 41,
   "metadata": {
    "colab": {
     "base_uri": "https://localhost:8080/",
     "height": 444
    },
    "id": "ZvO4iZd_kNKk",
    "outputId": "e2ce3e3d-f33e-46af-ba60-f5a94cbbc65e"
   },
   "outputs": [
    {
     "name": "stdout",
     "output_type": "stream",
     "text": [
      "              precision    recall  f1-score   support\n",
      "\n",
      "           0       0.78      0.37      0.50      2329\n",
      "           1       0.72      0.94      0.82      4028\n",
      "\n",
      "    accuracy                           0.73      6357\n",
      "   macro avg       0.75      0.66      0.66      6357\n",
      "weighted avg       0.74      0.73      0.70      6357\n",
      "\n"
     ]
    },
    {
     "data": {
      "image/png": "[encoded data removed]",
      "text/plain": [
       "<Figure size 432x288 with 2 Axes>"
      ]
     },
     "metadata": {
      "needs_background": "light"
     },
     "output_type": "display_data"
    }
   ],
   "source": [
    "plot_confusion_matrix(surrender_pipe, X_test, y_test);\n",
    "print(classification_report(y_test, surrender_pipe.predict(X_test)))"
   ]
  },
  {
   "cell_type": "markdown",
   "metadata": {
    "id": "sCIBQU1PxBUm"
   },
   "source": [
    "##### Pickling:"
   ]
  },
  {
   "cell_type": "code",
   "execution_count": 42,
   "metadata": {
    "id": "kVq9OUUkvmt6"
   },
   "outputs": [],
   "source": [
    "pickle.dump(surrender_pipe, open('../app/model/ownersurrender_pipe.pkl','wb'))"
   ]
  },
  {
   "cell_type": "markdown",
   "metadata": {
    "id": "JdNeLhfkhAvG"
   },
   "source": [
    "### 3. Public Assist\n",
    "\n",
    "Filtering DataFrame:"
   ]
  },
  {
   "cell_type": "code",
   "execution_count": 43,
   "metadata": {
    "id": "fk9tslGLhMfs"
   },
   "outputs": [],
   "source": [
    "model_df = df[df['intake_type_Public Assist'] == 1]\n",
    "model_df.reset_index(inplace=True, drop=True)"
   ]
  },
  {
   "cell_type": "markdown",
   "metadata": {
    "id": "99Cxy7EyhXSp"
   },
   "source": [
    "##### Baseline:"
   ]
  },
  {
   "cell_type": "code",
   "execution_count": 44,
   "metadata": {
    "colab": {
     "base_uri": "https://localhost:8080/"
    },
    "id": "MsFSXHfihTTT",
    "outputId": "67d50664-f889-4eea-f7f3-e9b8c26a50ed"
   },
   "outputs": [
    {
     "name": "stdout",
     "output_type": "stream",
     "text": [
      "0    0.85573\n",
      "1    0.14427\n",
      "Name: adopted, dtype: float64\n"
     ]
    }
   ],
   "source": [
    "print(model_df['adopted'].value_counts(normalize=True))"
   ]
  },
  {
   "cell_type": "markdown",
   "metadata": {
    "id": "VtTXOzXIiNW0"
   },
   "source": [
    "#### **Model**\n",
    "X and y are created, then run through a train-test-split. "
   ]
  },
  {
   "cell_type": "code",
   "execution_count": 45,
   "metadata": {
    "colab": {
     "base_uri": "https://localhost:8080/"
    },
    "id": "sMAXv98UiPk8",
    "outputId": "02221e12-5228-43be-cfdb-fae85b35398b"
   },
   "outputs": [
    {
     "data": {
      "text/plain": [
       "Pipeline(steps=[('scaler', StandardScaler()),\n",
       "                ('gbc', GradientBoostingClassifier(random_state=13))])"
      ]
     },
     "execution_count": 45,
     "metadata": {},
     "output_type": "execute_result"
    }
   ],
   "source": [
    "features = (model_df.drop(columns = ['adopted']).columns)\n",
    "X = model_df[features]\n",
    "y = model_df['adopted']\n",
    "\n",
    "X_train, X_test, y_train, y_test = train_test_split(X, y, random_state = 42, stratify=y)\n",
    "\n",
    "pipe_params = [\n",
    "               ('scaler', StandardScaler()),\n",
    "               ('gbc', GradientBoostingClassifier(random_state=13))\n",
    "]\n",
    "passist_pipe = Pipeline(pipe_params)\n",
    "passist_pipe.fit(X_train, y_train)"
   ]
  },
  {
   "cell_type": "markdown",
   "metadata": {
    "id": "vaFhfY10ihKN"
   },
   "source": [
    "##### Scores:"
   ]
  },
  {
   "cell_type": "code",
   "execution_count": 46,
   "metadata": {
    "colab": {
     "base_uri": "https://localhost:8080/"
    },
    "id": "JTOXZuQyig3d",
    "outputId": "3eaf4fc6-20f3-46f8-dfb3-0be107247ad3"
   },
   "outputs": [
    {
     "name": "stdout",
     "output_type": "stream",
     "text": [
      "Training Score:  0.9064748201438849\n",
      "Testing Score:  0.8977389516957862\n"
     ]
    }
   ],
   "source": [
    "print('Training Score: ', passist_pipe.score(X_train, y_train))\n",
    "print('Testing Score: ', passist_pipe.score(X_test, y_test))"
   ]
  },
  {
   "cell_type": "code",
   "execution_count": 47,
   "metadata": {
    "colab": {
     "base_uri": "https://localhost:8080/",
     "height": 447
    },
    "id": "yBfGiiHjj67I",
    "outputId": "c88831a2-220c-4e53-f12a-10e6fe87e6dc"
   },
   "outputs": [
    {
     "name": "stdout",
     "output_type": "stream",
     "text": [
      "              precision    recall  f1-score   support\n",
      "\n",
      "           0       0.92      0.97      0.94      1665\n",
      "           1       0.72      0.48      0.58       281\n",
      "\n",
      "    accuracy                           0.90      1946\n",
      "   macro avg       0.82      0.72      0.76      1946\n",
      "weighted avg       0.89      0.90      0.89      1946\n",
      "\n"
     ]
    },
    {
     "data": {
      "image/png": "[encoded data removed]",
      "text/plain": [
       "<Figure size 432x288 with 2 Axes>"
      ]
     },
     "metadata": {
      "needs_background": "light"
     },
     "output_type": "display_data"
    }
   ],
   "source": [
    "plot_confusion_matrix(passist_pipe, X_test, y_test);\n",
    "print(classification_report(y_test, passist_pipe.predict(X_test)))"
   ]
  },
  {
   "cell_type": "markdown",
   "metadata": {},
   "source": [
    "Baseline and model prep is provided in the cells above. Here, the accuracy score of the model rises along with the baseline score and performs well above the null model. Confusion matrix in the cell that follows:"
   ]
  },
  {
   "cell_type": "markdown",
   "metadata": {
    "id": "LZhYjUToxGEB"
   },
   "source": [
    "##### Pickling:"
   ]
  },
  {
   "cell_type": "code",
   "execution_count": 48,
   "metadata": {
    "id": "EZBo44opxIwu"
   },
   "outputs": [],
   "source": [
    "pickle.dump(passist_pipe, open('../app/model/pubassist_pipe.pkl','wb'))"
   ]
  },
  {
   "cell_type": "markdown",
   "metadata": {
    "id": "u2_eLND-jEMy"
   },
   "source": [
    "### 4. Euthanasia Requests"
   ]
  },
  {
   "cell_type": "markdown",
   "metadata": {
    "id": "pbnapsL3jBhC"
   },
   "source": [
    "Euthanasia requests create a conundrum in model construction, as the model is designed to predict adoptions which has as an assumption that the purpose of bringing a specific animal into the shelter system is to facilitate adoption. The model for this intake type performs just barely above the baseline on the test data."
   ]
  },
  {
   "cell_type": "markdown",
   "metadata": {},
   "source": [
    "##### Filtering DataFrame:"
   ]
  },
  {
   "cell_type": "code",
   "execution_count": 49,
   "metadata": {
    "id": "78rCJZH0jKo4"
   },
   "outputs": [],
   "source": [
    "model_df = df[df['intake_type_Euthanasia Request'] == 1]\n",
    "model_df.reset_index(inplace=True, drop=True)"
   ]
  },
  {
   "cell_type": "markdown",
   "metadata": {
    "id": "_whpAc3FjiQr"
   },
   "source": [
    "##### Baseline:"
   ]
  },
  {
   "cell_type": "code",
   "execution_count": 50,
   "metadata": {
    "colab": {
     "base_uri": "https://localhost:8080/"
    },
    "id": "KV7IrN8Wjlv3",
    "outputId": "5bd380aa-ed2a-47c3-afd6-85aefe675ce3"
   },
   "outputs": [
    {
     "name": "stdout",
     "output_type": "stream",
     "text": [
      "0    0.945525\n",
      "1    0.054475\n",
      "Name: adopted, dtype: float64\n"
     ]
    }
   ],
   "source": [
    "print(model_df['adopted'].value_counts(normalize=True))"
   ]
  },
  {
   "cell_type": "markdown",
   "metadata": {
    "id": "O9W9wMJAjq4l"
   },
   "source": [
    "#### **Model**\n",
    "X and y are created, then run through a train-test-split. "
   ]
  },
  {
   "cell_type": "code",
   "execution_count": 51,
   "metadata": {
    "colab": {
     "base_uri": "https://localhost:8080/"
    },
    "id": "OiOMSKwLjoyO",
    "outputId": "1a5cfdcb-eabb-4d03-c182-fb22791db3f7"
   },
   "outputs": [
    {
     "data": {
      "text/plain": [
       "Pipeline(steps=[('scaler', StandardScaler()),\n",
       "                ('gbc', GradientBoostingClassifier(random_state=13))])"
      ]
     },
     "execution_count": 51,
     "metadata": {},
     "output_type": "execute_result"
    }
   ],
   "source": [
    "features = (model_df.drop(columns = ['adopted']).columns)\n",
    "X = model_df[features]\n",
    "y = model_df['adopted']\n",
    "\n",
    "X_train, X_test, y_train, y_test = train_test_split(X, y, random_state = 42, stratify=y)\n",
    "\n",
    "pipe_params = [\n",
    "               ('scaler', StandardScaler()),\n",
    "               ('gbc', GradientBoostingClassifier(random_state=13))\n",
    "]\n",
    "euth_req_pipe = Pipeline(pipe_params)\n",
    "euth_req_pipe.fit(X_train, y_train)"
   ]
  },
  {
   "cell_type": "markdown",
   "metadata": {
    "id": "YWD8ewcgjvDO"
   },
   "source": [
    "##### Scores:"
   ]
  },
  {
   "cell_type": "code",
   "execution_count": 52,
   "metadata": {
    "colab": {
     "base_uri": "https://localhost:8080/"
    },
    "id": "MPNI1AZJjyes",
    "outputId": "df507b99-d0f5-4904-be13-c781d69ce11d"
   },
   "outputs": [
    {
     "name": "stdout",
     "output_type": "stream",
     "text": [
      "Training Score:  1.0\n",
      "Testing Score:  0.9538461538461539\n"
     ]
    }
   ],
   "source": [
    "print('Training Score: ', euth_req_pipe.score(X_train, y_train))\n",
    "print('Testing Score: ', euth_req_pipe.score(X_test, y_test))"
   ]
  },
  {
   "cell_type": "code",
   "execution_count": 53,
   "metadata": {
    "colab": {
     "base_uri": "https://localhost:8080/",
     "height": 445
    },
    "id": "Y5A1p2J9io1v",
    "outputId": "7636fc3f-ddb1-4cdb-decb-628459b53a13"
   },
   "outputs": [
    {
     "name": "stdout",
     "output_type": "stream",
     "text": [
      "              precision    recall  f1-score   support\n",
      "\n",
      "           0       0.95      1.00      0.98        61\n",
      "           1       1.00      0.25      0.40         4\n",
      "\n",
      "    accuracy                           0.95        65\n",
      "   macro avg       0.98      0.62      0.69        65\n",
      "weighted avg       0.96      0.95      0.94        65\n",
      "\n"
     ]
    },
    {
     "data": {
      "image/png": "[encoded data removed]",
      "text/plain": [
       "<Figure size 432x288 with 2 Axes>"
      ]
     },
     "metadata": {
      "needs_background": "light"
     },
     "output_type": "display_data"
    }
   ],
   "source": [
    "plot_confusion_matrix(euth_req_pipe, X_test, y_test);\n",
    "print(classification_report(y_test, euth_req_pipe.predict(X_test)))"
   ]
  },
  {
   "cell_type": "markdown",
   "metadata": {
    "id": "GBCJrvr0yqWQ"
   },
   "source": [
    "##### Pickling:"
   ]
  },
  {
   "cell_type": "code",
   "execution_count": 54,
   "metadata": {
    "id": "QnRyg7l2yt2a"
   },
   "outputs": [],
   "source": [
    "pickle.dump(euth_req_pipe, open('../app/model/euth_pipe.pkl','wb'))"
   ]
  },
  {
   "cell_type": "markdown",
   "metadata": {
    "id": "e2cWruPCouX3"
   },
   "source": [
    "### 5. Wildlife"
   ]
  },
  {
   "cell_type": "markdown",
   "metadata": {
    "id": "kRmr76yPiBI8"
   },
   "source": [
    "Entries classified as wildlife for their intake type proved another challenge, as there are simply too few cases in the dataset of these animals being adopted to produce meaningful results. Bagging did not help and resulted in overfitting the model to the training data. Also, because the scope of the model focuses primarily on adoption outcomes, this may result in a deviation from a shelter's intentions for wildlife animals if adoption is not the primary goal for such cases.\n",
    "\n",
    "For additional exploration, more data would be needed."
   ]
  },
  {
   "cell_type": "markdown",
   "metadata": {},
   "source": [
    "##### Filtering DataFrame:"
   ]
  },
  {
   "cell_type": "code",
   "execution_count": 55,
   "metadata": {
    "id": "UhPZu-rDo2O_"
   },
   "outputs": [],
   "source": [
    "model_df = df[df['intake_type_Wildlife'] == 1]\n",
    "model_df.reset_index(inplace=True, drop=True)"
   ]
  },
  {
   "cell_type": "markdown",
   "metadata": {
    "id": "SOxUf9dEpCO2"
   },
   "source": [
    "##### Baseline"
   ]
  },
  {
   "cell_type": "code",
   "execution_count": 56,
   "metadata": {
    "colab": {
     "base_uri": "https://localhost:8080/"
    },
    "id": "RgmKV-R6o-h8",
    "outputId": "9583e985-6993-44f5-8c9c-e1a95e0d84be"
   },
   "outputs": [
    {
     "name": "stdout",
     "output_type": "stream",
     "text": [
      "0    0.998618\n",
      "1    0.001382\n",
      "Name: adopted, dtype: float64\n"
     ]
    }
   ],
   "source": [
    "print(model_df['adopted'].value_counts(normalize=True))"
   ]
  },
  {
   "cell_type": "markdown",
   "metadata": {
    "id": "Jyajs4QgpHH5"
   },
   "source": [
    "#### **Model**\n",
    "X and y are created, then run through a train-test-split. "
   ]
  },
  {
   "cell_type": "code",
   "execution_count": 57,
   "metadata": {
    "colab": {
     "base_uri": "https://localhost:8080/"
    },
    "id": "e0js5t-jpIWE",
    "outputId": "31e2ae78-ec2d-4c72-dd97-7c56b14515d8"
   },
   "outputs": [
    {
     "data": {
      "text/plain": [
       "Pipeline(steps=[('scaler', StandardScaler()),\n",
       "                ('gbc',\n",
       "                 GradientBoostingClassifier(learning_rate=0.01,\n",
       "                                            random_state=13))])"
      ]
     },
     "execution_count": 57,
     "metadata": {},
     "output_type": "execute_result"
    }
   ],
   "source": [
    "features = (model_df.drop(columns = ['adopted']).columns)\n",
    "X = model_df[features]\n",
    "y = model_df['adopted']\n",
    "\n",
    "X_train, X_test, y_train, y_test = train_test_split(X, y, random_state = 42, stratify=y)\n",
    "\n",
    "pipe_params = [\n",
    "               ('scaler', StandardScaler()),\n",
    "               ('gbc', GradientBoostingClassifier(random_state=13, learning_rate=.01))\n",
    "]\n",
    "wildlife_pipe = Pipeline(pipe_params)\n",
    "wildlife_pipe.fit(X_train, y_train)"
   ]
  },
  {
   "cell_type": "markdown",
   "metadata": {
    "id": "57xmJABJplMd"
   },
   "source": [
    "##### Scores:"
   ]
  },
  {
   "cell_type": "code",
   "execution_count": 58,
   "metadata": {
    "colab": {
     "base_uri": "https://localhost:8080/"
    },
    "id": "eokQtSDFpnSN",
    "outputId": "7ab01c7a-a204-4885-dc1d-b608fd2359bc"
   },
   "outputs": [
    {
     "name": "stdout",
     "output_type": "stream",
     "text": [
      "Training Score:  1.0\n",
      "Testing Score:  0.9984214680347278\n"
     ]
    }
   ],
   "source": [
    "print('Training Score: ', wildlife_pipe.score(X_train, y_train))\n",
    "print('Testing Score: ', wildlife_pipe.score(X_test, y_test))"
   ]
  },
  {
   "cell_type": "code",
   "execution_count": 59,
   "metadata": {
    "colab": {
     "base_uri": "https://localhost:8080/",
     "height": 501
    },
    "id": "Ko6y2Z4NfTrr",
    "outputId": "24d8b9c7-d3a1-4e1a-be87-030aec62a41c"
   },
   "outputs": [
    {
     "name": "stdout",
     "output_type": "stream",
     "text": [
      "              precision    recall  f1-score   support\n",
      "\n",
      "           0       1.00      1.00      1.00      1265\n",
      "           1       0.00      0.00      0.00         2\n",
      "\n",
      "    accuracy                           1.00      1267\n",
      "   macro avg       0.50      0.50      0.50      1267\n",
      "weighted avg       1.00      1.00      1.00      1267\n",
      "\n"
     ]
    },
    {
     "data": {
      "image/png": "[encoded data removed]",
      "text/plain": [
       "<Figure size 432x288 with 2 Axes>"
      ]
     },
     "metadata": {
      "needs_background": "light"
     },
     "output_type": "display_data"
    }
   ],
   "source": [
    "plot_confusion_matrix(wildlife_pipe, X_test, y_test);\n",
    "print(classification_report(y_test, wildlife_pipe.predict(X_test)))"
   ]
  },
  {
   "cell_type": "markdown",
   "metadata": {
    "id": "CykDLglQoFHQ"
   },
   "source": [
    "##### Pickling:"
   ]
  },
  {
   "cell_type": "code",
   "execution_count": 60,
   "metadata": {
    "id": "8US5xmcmoEzJ"
   },
   "outputs": [],
   "source": [
    "pickle.dump(euth_req_pipe, open('../app/model/wlife_pipe.pkl','wb'))"
   ]
  },
  {
   "cell_type": "markdown",
   "metadata": {
    "id": "AhcVeZaCp5r7"
   },
   "source": [
    "### 6. Abandoned"
   ]
  },
  {
   "cell_type": "markdown",
   "metadata": {
    "id": "ZvVVsofLnwyv"
   },
   "source": [
    "The iteration of this model used for abandoned animals again performs extremely well, and adjusting the initial model by finetuning hyperparameters reduced early overfitting."
   ]
  },
  {
   "cell_type": "markdown",
   "metadata": {},
   "source": [
    "##### Filtering DataFrame:"
   ]
  },
  {
   "cell_type": "code",
   "execution_count": 61,
   "metadata": {
    "id": "UR4aEotvp_Rr"
   },
   "outputs": [],
   "source": [
    "model_df = df[df['intake_type_Abandoned'] == 1]\n",
    "model_df.reset_index(inplace=True, drop=True)"
   ]
  },
  {
   "cell_type": "markdown",
   "metadata": {
    "id": "covoAKg_qEkT"
   },
   "source": [
    "##### Baseline:"
   ]
  },
  {
   "cell_type": "code",
   "execution_count": 62,
   "metadata": {
    "colab": {
     "base_uri": "https://localhost:8080/"
    },
    "id": "5wUczkbjqELA",
    "outputId": "ded0d974-c05a-4b1a-cf49-57babc7dfcc7"
   },
   "outputs": [
    {
     "name": "stdout",
     "output_type": "stream",
     "text": [
      "0    0.504525\n",
      "1    0.495475\n",
      "Name: adopted, dtype: float64\n"
     ]
    }
   ],
   "source": [
    "print(model_df['adopted'].value_counts(normalize=True))"
   ]
  },
  {
   "cell_type": "markdown",
   "metadata": {
    "id": "-kNc75UcqJqB"
   },
   "source": [
    "#### **Model**"
   ]
  },
  {
   "cell_type": "code",
   "execution_count": 63,
   "metadata": {
    "colab": {
     "base_uri": "https://localhost:8080/"
    },
    "id": "u5u0tfzIqLCm",
    "outputId": "38fcb9c6-4497-49ce-c3c9-530a7b32d195"
   },
   "outputs": [
    {
     "data": {
      "text/plain": [
       "Pipeline(steps=[('scaler', StandardScaler()),\n",
       "                ('gbc',\n",
       "                 GradientBoostingClassifier(learning_rate=0.001,\n",
       "                                            max_features=1000,\n",
       "                                            random_state=13))])"
      ]
     },
     "execution_count": 63,
     "metadata": {},
     "output_type": "execute_result"
    }
   ],
   "source": [
    "features = (model_df.drop(columns = ['adopted']).columns)\n",
    "X = model_df[features]\n",
    "y = model_df['adopted']\n",
    "\n",
    "X_train, X_test, y_train, y_test = train_test_split(X, y, random_state = 42, stratify=y)\n",
    "\n",
    "pipe_params = [\n",
    "               ('scaler', StandardScaler()),\n",
    "               ('gbc', GradientBoostingClassifier(max_features=1000,learning_rate=.001,random_state=13))\n",
    "]\n",
    "abandoned_pipe = Pipeline(pipe_params)\n",
    "abandoned_pipe.fit(X_train, y_train)"
   ]
  },
  {
   "cell_type": "markdown",
   "metadata": {
    "id": "SevlPQVGqMOh"
   },
   "source": [
    "##### Scores:"
   ]
  },
  {
   "cell_type": "code",
   "execution_count": 64,
   "metadata": {
    "colab": {
     "base_uri": "https://localhost:8080/"
    },
    "id": "F2gPGSw2qOVD",
    "outputId": "99203607-a7b8-427c-a63c-4856757872b2"
   },
   "outputs": [
    {
     "name": "stdout",
     "output_type": "stream",
     "text": [
      "Training Score:  0.8731117824773413\n",
      "Testing Score:  0.8288288288288288\n"
     ]
    }
   ],
   "source": [
    "print('Training Score: ', abandoned_pipe.score(X_train, y_train))\n",
    "print('Testing Score: ', abandoned_pipe.score(X_test, y_test))"
   ]
  },
  {
   "cell_type": "code",
   "execution_count": 65,
   "metadata": {
    "colab": {
     "base_uri": "https://localhost:8080/",
     "height": 444
    },
    "id": "Q3R2MOVdeliS",
    "outputId": "a11dd3a6-93a7-4324-8abd-b8d665c72da7"
   },
   "outputs": [
    {
     "name": "stdout",
     "output_type": "stream",
     "text": [
      "              precision    recall  f1-score   support\n",
      "\n",
      "           0       0.95      0.70      0.80        56\n",
      "           1       0.76      0.96      0.85        55\n",
      "\n",
      "    accuracy                           0.83       111\n",
      "   macro avg       0.85      0.83      0.83       111\n",
      "weighted avg       0.86      0.83      0.83       111\n",
      "\n"
     ]
    },
    {
     "data": {
      "image/png": "[encoded data removed]",
      "text/plain": [
       "<Figure size 432x288 with 2 Axes>"
      ]
     },
     "metadata": {
      "needs_background": "light"
     },
     "output_type": "display_data"
    }
   ],
   "source": [
    "plot_confusion_matrix(abandoned_pipe, X_test, y_test);\n",
    "print(classification_report(y_test, abandoned_pipe.predict(X_test)))"
   ]
  },
  {
   "cell_type": "markdown",
   "metadata": {
    "id": "GYqiuDCCoPTE"
   },
   "source": [
    "##### Pickling:"
   ]
  },
  {
   "cell_type": "code",
   "execution_count": 66,
   "metadata": {
    "id": "At8Aa9lxoSgZ"
   },
   "outputs": [],
   "source": [
    "pickle.dump(euth_req_pipe, open('../app/model/abandoned_pipe.pkl','wb'))"
   ]
  },
  {
   "cell_type": "markdown",
   "metadata": {
    "id": "8YQwV85OyXUC"
   },
   "source": [
    "## IV. Pickle Dump for Streamlit App"
   ]
  },
  {
   "cell_type": "markdown",
   "metadata": {},
   "source": [
    "The DataFrames used for this modeling process is written to the `datasets` folder, and unique values for key categorical features are pickled for use in the StreamLit app:"
   ]
  },
  {
   "cell_type": "code",
   "execution_count": 67,
   "metadata": {
    "id": "o8p0Xlr0oYhK"
   },
   "outputs": [],
   "source": [
    "pkl_df = pd.read_csv('./../data/main.csv')"
   ]
  },
  {
   "cell_type": "code",
   "execution_count": 68,
   "metadata": {
    "id": "fBOk012dyfqH"
   },
   "outputs": [],
   "source": [
    "pickle.dump(pkl_df['color'].unique(), open('../app/model/animal_color_list.pkl','wb'))\n",
    "pickle.dump(pkl_df['animal_type'].unique(), open('../app/model/animal_type_list.pkl','wb'))\n",
    "pickle.dump(pkl_df['breed'].unique(), open('../app/model/animal_breed_list.pkl','wb'))\n",
    "pickle.dump(pkl_df['intake_condition'].unique(), open('../app/model/intake_cond_list.pkl','wb'))"
   ]
  },
  {
   "cell_type": "markdown",
   "metadata": {},
   "source": [
    "# ***Model Deployment*** - [Streamlit App]('../app/main_app.py')"
   ]
  }
 ],
 "metadata": {
  "colab": {
   "collapsed_sections": [
    "99Cxy7EyhXSp",
    "VtTXOzXIiNW0",
    "vaFhfY10ihKN",
    "_whpAc3FjiQr",
    "O9W9wMJAjq4l",
    "YWD8ewcgjvDO",
    "SOxUf9dEpCO2",
    "Jyajs4QgpHH5",
    "57xmJABJplMd",
    "covoAKg_qEkT",
    "-kNc75UcqJqB",
    "SevlPQVGqMOh"
   ],
   "machine_shape": "hm",
   "name": "evan_clean_model.ipynb",
   "provenance": [],
   "toc_visible": true
  },
  "kernelspec": {
   "display_name": "Python 3",
   "language": "python",
   "name": "python3"
  },
  "language_info": {
   "codemirror_mode": {
    "name": "ipython",
    "version": 3
   },
   "file_extension": ".py",
   "mimetype": "text/x-python",
   "name": "python",
   "nbconvert_exporter": "python",
   "pygments_lexer": "ipython3",
   "version": "3.8.8"
  }
 },
 "nbformat": 4,
 "nbformat_minor": 4
}
